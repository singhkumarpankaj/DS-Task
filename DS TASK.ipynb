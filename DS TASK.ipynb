{
 "cells": [
  {
   "cell_type": "code",
   "execution_count": 3,
   "id": "a1b02d21",
   "metadata": {},
   "outputs": [],
   "source": [
    "import pandas as pd"
   ]
  },
  {
   "cell_type": "code",
   "execution_count": 5,
   "id": "22663a97",
   "metadata": {},
   "outputs": [],
   "source": [
    "trader_df = pd.read_csv(\"historical_data.csv\")"
   ]
  },
  {
   "cell_type": "code",
   "execution_count": 7,
   "id": "5ff7b794",
   "metadata": {},
   "outputs": [
    {
     "data": {
      "application/vnd.microsoft.datawrangler.viewer.v0+json": {
       "columns": [
        {
         "name": "index",
         "rawType": "int64",
         "type": "integer"
        },
        {
         "name": "Account",
         "rawType": "object",
         "type": "string"
        },
        {
         "name": "Coin",
         "rawType": "object",
         "type": "string"
        },
        {
         "name": "Execution Price",
         "rawType": "float64",
         "type": "float"
        },
        {
         "name": "Size Tokens",
         "rawType": "float64",
         "type": "float"
        },
        {
         "name": "Size USD",
         "rawType": "float64",
         "type": "float"
        },
        {
         "name": "Side",
         "rawType": "object",
         "type": "string"
        },
        {
         "name": "Timestamp IST",
         "rawType": "object",
         "type": "string"
        },
        {
         "name": "Start Position",
         "rawType": "float64",
         "type": "float"
        },
        {
         "name": "Direction",
         "rawType": "object",
         "type": "string"
        },
        {
         "name": "Closed PnL",
         "rawType": "float64",
         "type": "float"
        },
        {
         "name": "Transaction Hash",
         "rawType": "object",
         "type": "string"
        },
        {
         "name": "Order ID",
         "rawType": "int64",
         "type": "integer"
        },
        {
         "name": "Crossed",
         "rawType": "bool",
         "type": "boolean"
        },
        {
         "name": "Fee",
         "rawType": "float64",
         "type": "float"
        },
        {
         "name": "Trade ID",
         "rawType": "float64",
         "type": "float"
        },
        {
         "name": "Timestamp",
         "rawType": "float64",
         "type": "float"
        },
        {
         "name": "date",
         "rawType": "object",
         "type": "unknown"
        }
       ],
       "ref": "9e0d1548-ac6b-4ae9-a294-f00ba030f206",
       "rows": [
        [
         "0",
         "0xae5eacaf9c6b9111fd53034a602c192a04e082ed",
         "@107",
         "7.9769",
         "986.87",
         "7872.16",
         "BUY",
         "02-12-2024 22:50",
         "0.0",
         "Buy",
         "0.0",
         "0xec09451986a1874e3a980418412fcd0201f500c95bac0f37caef8a734502ec49",
         "52017706630",
         "True",
         "0.34540448",
         "895000000000000.0",
         "1730000000000.0",
         "2024-12-02"
        ],
        [
         "1",
         "0xae5eacaf9c6b9111fd53034a602c192a04e082ed",
         "@107",
         "7.98",
         "16.0",
         "127.68",
         "BUY",
         "02-12-2024 22:50",
         "986.5245955",
         "Buy",
         "0.0",
         "0xec09451986a1874e3a980418412fcd0201f500c95bac0f37caef8a734502ec49",
         "52017706630",
         "True",
         "0.0056",
         "443000000000000.0",
         "1730000000000.0",
         "2024-12-02"
        ],
        [
         "2",
         "0xae5eacaf9c6b9111fd53034a602c192a04e082ed",
         "@107",
         "7.9855",
         "144.09",
         "1150.63",
         "BUY",
         "02-12-2024 22:50",
         "1002.518996",
         "Buy",
         "0.0",
         "0xec09451986a1874e3a980418412fcd0201f500c95bac0f37caef8a734502ec49",
         "52017706630",
         "True",
         "0.0504314",
         "660000000000000.0",
         "1730000000000.0",
         "2024-12-02"
        ],
        [
         "3",
         "0xae5eacaf9c6b9111fd53034a602c192a04e082ed",
         "@107",
         "7.9874",
         "142.98",
         "1142.04",
         "BUY",
         "02-12-2024 22:50",
         "1146.558564",
         "Buy",
         "0.0",
         "0xec09451986a1874e3a980418412fcd0201f500c95bac0f37caef8a734502ec49",
         "52017706630",
         "True",
         "0.05004294",
         "1080000000000000.0",
         "1730000000000.0",
         "2024-12-02"
        ],
        [
         "4",
         "0xae5eacaf9c6b9111fd53034a602c192a04e082ed",
         "@107",
         "7.9894",
         "8.73",
         "69.75",
         "BUY",
         "02-12-2024 22:50",
         "1289.488521",
         "Buy",
         "0.0",
         "0xec09451986a1874e3a980418412fcd0201f500c95bac0f37caef8a734502ec49",
         "52017706630",
         "True",
         "0.00305542",
         "1050000000000000.0",
         "1730000000000.0",
         "2024-12-02"
        ]
       ],
       "shape": {
        "columns": 17,
        "rows": 5
       }
      },
      "text/html": [
       "<div>\n",
       "<style scoped>\n",
       "    .dataframe tbody tr th:only-of-type {\n",
       "        vertical-align: middle;\n",
       "    }\n",
       "\n",
       "    .dataframe tbody tr th {\n",
       "        vertical-align: top;\n",
       "    }\n",
       "\n",
       "    .dataframe thead th {\n",
       "        text-align: right;\n",
       "    }\n",
       "</style>\n",
       "<table border=\"1\" class=\"dataframe\">\n",
       "  <thead>\n",
       "    <tr style=\"text-align: right;\">\n",
       "      <th></th>\n",
       "      <th>Account</th>\n",
       "      <th>Coin</th>\n",
       "      <th>Execution Price</th>\n",
       "      <th>Size Tokens</th>\n",
       "      <th>Size USD</th>\n",
       "      <th>Side</th>\n",
       "      <th>Timestamp IST</th>\n",
       "      <th>Start Position</th>\n",
       "      <th>Direction</th>\n",
       "      <th>Closed PnL</th>\n",
       "      <th>Transaction Hash</th>\n",
       "      <th>Order ID</th>\n",
       "      <th>Crossed</th>\n",
       "      <th>Fee</th>\n",
       "      <th>Trade ID</th>\n",
       "      <th>Timestamp</th>\n",
       "      <th>date</th>\n",
       "    </tr>\n",
       "  </thead>\n",
       "  <tbody>\n",
       "    <tr>\n",
       "      <th>0</th>\n",
       "      <td>0xae5eacaf9c6b9111fd53034a602c192a04e082ed</td>\n",
       "      <td>@107</td>\n",
       "      <td>7.9769</td>\n",
       "      <td>986.87</td>\n",
       "      <td>7872.16</td>\n",
       "      <td>BUY</td>\n",
       "      <td>02-12-2024 22:50</td>\n",
       "      <td>0.000000</td>\n",
       "      <td>Buy</td>\n",
       "      <td>0.0</td>\n",
       "      <td>0xec09451986a1874e3a980418412fcd0201f500c95bac...</td>\n",
       "      <td>52017706630</td>\n",
       "      <td>True</td>\n",
       "      <td>0.345404</td>\n",
       "      <td>8.950000e+14</td>\n",
       "      <td>1.730000e+12</td>\n",
       "      <td>2024-12-02</td>\n",
       "    </tr>\n",
       "    <tr>\n",
       "      <th>1</th>\n",
       "      <td>0xae5eacaf9c6b9111fd53034a602c192a04e082ed</td>\n",
       "      <td>@107</td>\n",
       "      <td>7.9800</td>\n",
       "      <td>16.00</td>\n",
       "      <td>127.68</td>\n",
       "      <td>BUY</td>\n",
       "      <td>02-12-2024 22:50</td>\n",
       "      <td>986.524596</td>\n",
       "      <td>Buy</td>\n",
       "      <td>0.0</td>\n",
       "      <td>0xec09451986a1874e3a980418412fcd0201f500c95bac...</td>\n",
       "      <td>52017706630</td>\n",
       "      <td>True</td>\n",
       "      <td>0.005600</td>\n",
       "      <td>4.430000e+14</td>\n",
       "      <td>1.730000e+12</td>\n",
       "      <td>2024-12-02</td>\n",
       "    </tr>\n",
       "    <tr>\n",
       "      <th>2</th>\n",
       "      <td>0xae5eacaf9c6b9111fd53034a602c192a04e082ed</td>\n",
       "      <td>@107</td>\n",
       "      <td>7.9855</td>\n",
       "      <td>144.09</td>\n",
       "      <td>1150.63</td>\n",
       "      <td>BUY</td>\n",
       "      <td>02-12-2024 22:50</td>\n",
       "      <td>1002.518996</td>\n",
       "      <td>Buy</td>\n",
       "      <td>0.0</td>\n",
       "      <td>0xec09451986a1874e3a980418412fcd0201f500c95bac...</td>\n",
       "      <td>52017706630</td>\n",
       "      <td>True</td>\n",
       "      <td>0.050431</td>\n",
       "      <td>6.600000e+14</td>\n",
       "      <td>1.730000e+12</td>\n",
       "      <td>2024-12-02</td>\n",
       "    </tr>\n",
       "    <tr>\n",
       "      <th>3</th>\n",
       "      <td>0xae5eacaf9c6b9111fd53034a602c192a04e082ed</td>\n",
       "      <td>@107</td>\n",
       "      <td>7.9874</td>\n",
       "      <td>142.98</td>\n",
       "      <td>1142.04</td>\n",
       "      <td>BUY</td>\n",
       "      <td>02-12-2024 22:50</td>\n",
       "      <td>1146.558564</td>\n",
       "      <td>Buy</td>\n",
       "      <td>0.0</td>\n",
       "      <td>0xec09451986a1874e3a980418412fcd0201f500c95bac...</td>\n",
       "      <td>52017706630</td>\n",
       "      <td>True</td>\n",
       "      <td>0.050043</td>\n",
       "      <td>1.080000e+15</td>\n",
       "      <td>1.730000e+12</td>\n",
       "      <td>2024-12-02</td>\n",
       "    </tr>\n",
       "    <tr>\n",
       "      <th>4</th>\n",
       "      <td>0xae5eacaf9c6b9111fd53034a602c192a04e082ed</td>\n",
       "      <td>@107</td>\n",
       "      <td>7.9894</td>\n",
       "      <td>8.73</td>\n",
       "      <td>69.75</td>\n",
       "      <td>BUY</td>\n",
       "      <td>02-12-2024 22:50</td>\n",
       "      <td>1289.488521</td>\n",
       "      <td>Buy</td>\n",
       "      <td>0.0</td>\n",
       "      <td>0xec09451986a1874e3a980418412fcd0201f500c95bac...</td>\n",
       "      <td>52017706630</td>\n",
       "      <td>True</td>\n",
       "      <td>0.003055</td>\n",
       "      <td>1.050000e+15</td>\n",
       "      <td>1.730000e+12</td>\n",
       "      <td>2024-12-02</td>\n",
       "    </tr>\n",
       "  </tbody>\n",
       "</table>\n",
       "</div>"
      ],
      "text/plain": [
       "                                      Account  Coin  Execution Price  \\\n",
       "0  0xae5eacaf9c6b9111fd53034a602c192a04e082ed  @107           7.9769   \n",
       "1  0xae5eacaf9c6b9111fd53034a602c192a04e082ed  @107           7.9800   \n",
       "2  0xae5eacaf9c6b9111fd53034a602c192a04e082ed  @107           7.9855   \n",
       "3  0xae5eacaf9c6b9111fd53034a602c192a04e082ed  @107           7.9874   \n",
       "4  0xae5eacaf9c6b9111fd53034a602c192a04e082ed  @107           7.9894   \n",
       "\n",
       "   Size Tokens  Size USD Side     Timestamp IST  Start Position Direction  \\\n",
       "0       986.87   7872.16  BUY  02-12-2024 22:50        0.000000       Buy   \n",
       "1        16.00    127.68  BUY  02-12-2024 22:50      986.524596       Buy   \n",
       "2       144.09   1150.63  BUY  02-12-2024 22:50     1002.518996       Buy   \n",
       "3       142.98   1142.04  BUY  02-12-2024 22:50     1146.558564       Buy   \n",
       "4         8.73     69.75  BUY  02-12-2024 22:50     1289.488521       Buy   \n",
       "\n",
       "   Closed PnL                                   Transaction Hash     Order ID  \\\n",
       "0         0.0  0xec09451986a1874e3a980418412fcd0201f500c95bac...  52017706630   \n",
       "1         0.0  0xec09451986a1874e3a980418412fcd0201f500c95bac...  52017706630   \n",
       "2         0.0  0xec09451986a1874e3a980418412fcd0201f500c95bac...  52017706630   \n",
       "3         0.0  0xec09451986a1874e3a980418412fcd0201f500c95bac...  52017706630   \n",
       "4         0.0  0xec09451986a1874e3a980418412fcd0201f500c95bac...  52017706630   \n",
       "\n",
       "   Crossed       Fee      Trade ID     Timestamp        date  \n",
       "0     True  0.345404  8.950000e+14  1.730000e+12  2024-12-02  \n",
       "1     True  0.005600  4.430000e+14  1.730000e+12  2024-12-02  \n",
       "2     True  0.050431  6.600000e+14  1.730000e+12  2024-12-02  \n",
       "3     True  0.050043  1.080000e+15  1.730000e+12  2024-12-02  \n",
       "4     True  0.003055  1.050000e+15  1.730000e+12  2024-12-02  "
      ]
     },
     "execution_count": 7,
     "metadata": {},
     "output_type": "execute_result"
    }
   ],
   "source": [
    "trader_df.head()"
   ]
  },
  {
   "cell_type": "code",
   "execution_count": 6,
   "id": "b01a2a47",
   "metadata": {},
   "outputs": [],
   "source": [
    "# Convert 'Timestamp IST' to datetime\n",
    "trader_df['date'] = pd.to_datetime(trader_df['Timestamp IST'], format=\"%d-%m-%Y %H:%M\").dt.date"
   ]
  },
  {
   "cell_type": "code",
   "execution_count": 8,
   "id": "11beeced",
   "metadata": {},
   "outputs": [
    {
     "data": {
      "application/vnd.microsoft.datawrangler.viewer.v0+json": {
       "columns": [
        {
         "name": "index",
         "rawType": "int64",
         "type": "integer"
        },
        {
         "name": "Timestamp IST",
         "rawType": "object",
         "type": "string"
        },
        {
         "name": "date",
         "rawType": "object",
         "type": "unknown"
        }
       ],
       "ref": "def5a049-fb0f-4197-8a82-45b05961e210",
       "rows": [
        [
         "0",
         "02-12-2024 22:50",
         "2024-12-02"
        ],
        [
         "1",
         "02-12-2024 22:50",
         "2024-12-02"
        ],
        [
         "2",
         "02-12-2024 22:50",
         "2024-12-02"
        ],
        [
         "3",
         "02-12-2024 22:50",
         "2024-12-02"
        ],
        [
         "4",
         "02-12-2024 22:50",
         "2024-12-02"
        ],
        [
         "5",
         "02-12-2024 22:50",
         "2024-12-02"
        ],
        [
         "6",
         "02-12-2024 22:50",
         "2024-12-02"
        ],
        [
         "7",
         "02-12-2024 22:50",
         "2024-12-02"
        ],
        [
         "8",
         "02-12-2024 22:50",
         "2024-12-02"
        ],
        [
         "9",
         "02-12-2024 22:50",
         "2024-12-02"
        ],
        [
         "10",
         "02-12-2024 22:50",
         "2024-12-02"
        ],
        [
         "11",
         "02-12-2024 22:51",
         "2024-12-02"
        ],
        [
         "12",
         "02-12-2024 22:51",
         "2024-12-02"
        ],
        [
         "13",
         "02-12-2024 22:51",
         "2024-12-02"
        ],
        [
         "14",
         "02-12-2024 22:51",
         "2024-12-02"
        ],
        [
         "15",
         "02-12-2024 22:54",
         "2024-12-02"
        ],
        [
         "16",
         "02-12-2024 22:54",
         "2024-12-02"
        ],
        [
         "17",
         "02-12-2024 22:54",
         "2024-12-02"
        ],
        [
         "18",
         "02-12-2024 22:54",
         "2024-12-02"
        ],
        [
         "19",
         "02-12-2024 22:54",
         "2024-12-02"
        ],
        [
         "20",
         "02-12-2024 22:54",
         "2024-12-02"
        ],
        [
         "21",
         "02-12-2024 22:54",
         "2024-12-02"
        ],
        [
         "22",
         "02-12-2024 22:54",
         "2024-12-02"
        ],
        [
         "23",
         "02-12-2024 22:54",
         "2024-12-02"
        ],
        [
         "24",
         "02-12-2024 22:54",
         "2024-12-02"
        ],
        [
         "25",
         "02-12-2024 22:54",
         "2024-12-02"
        ],
        [
         "26",
         "02-12-2024 22:54",
         "2024-12-02"
        ],
        [
         "27",
         "02-12-2024 22:54",
         "2024-12-02"
        ],
        [
         "28",
         "02-12-2024 22:54",
         "2024-12-02"
        ],
        [
         "29",
         "02-12-2024 22:54",
         "2024-12-02"
        ],
        [
         "30",
         "02-12-2024 22:54",
         "2024-12-02"
        ],
        [
         "31",
         "02-12-2024 23:13",
         "2024-12-02"
        ],
        [
         "32",
         "02-12-2024 23:13",
         "2024-12-02"
        ],
        [
         "33",
         "02-12-2024 23:13",
         "2024-12-02"
        ],
        [
         "34",
         "02-12-2024 23:13",
         "2024-12-02"
        ],
        [
         "35",
         "02-12-2024 23:21",
         "2024-12-02"
        ],
        [
         "36",
         "02-12-2024 23:21",
         "2024-12-02"
        ],
        [
         "37",
         "02-12-2024 23:21",
         "2024-12-02"
        ],
        [
         "38",
         "02-12-2024 23:21",
         "2024-12-02"
        ],
        [
         "39",
         "02-12-2024 23:21",
         "2024-12-02"
        ],
        [
         "40",
         "02-12-2024 23:21",
         "2024-12-02"
        ],
        [
         "41",
         "02-12-2024 23:21",
         "2024-12-02"
        ],
        [
         "42",
         "02-12-2024 23:21",
         "2024-12-02"
        ],
        [
         "43",
         "02-12-2024 23:21",
         "2024-12-02"
        ],
        [
         "44",
         "03-12-2024 14:39",
         "2024-12-03"
        ],
        [
         "45",
         "03-12-2024 14:39",
         "2024-12-03"
        ],
        [
         "46",
         "03-12-2024 14:39",
         "2024-12-03"
        ],
        [
         "47",
         "03-12-2024 14:39",
         "2024-12-03"
        ],
        [
         "48",
         "03-12-2024 14:39",
         "2024-12-03"
        ],
        [
         "49",
         "03-12-2024 14:39",
         "2024-12-03"
        ]
       ],
       "shape": {
        "columns": 2,
        "rows": 211224
       }
      },
      "text/html": [
       "<div>\n",
       "<style scoped>\n",
       "    .dataframe tbody tr th:only-of-type {\n",
       "        vertical-align: middle;\n",
       "    }\n",
       "\n",
       "    .dataframe tbody tr th {\n",
       "        vertical-align: top;\n",
       "    }\n",
       "\n",
       "    .dataframe thead th {\n",
       "        text-align: right;\n",
       "    }\n",
       "</style>\n",
       "<table border=\"1\" class=\"dataframe\">\n",
       "  <thead>\n",
       "    <tr style=\"text-align: right;\">\n",
       "      <th></th>\n",
       "      <th>Timestamp IST</th>\n",
       "      <th>date</th>\n",
       "    </tr>\n",
       "  </thead>\n",
       "  <tbody>\n",
       "    <tr>\n",
       "      <th>0</th>\n",
       "      <td>02-12-2024 22:50</td>\n",
       "      <td>2024-12-02</td>\n",
       "    </tr>\n",
       "    <tr>\n",
       "      <th>1</th>\n",
       "      <td>02-12-2024 22:50</td>\n",
       "      <td>2024-12-02</td>\n",
       "    </tr>\n",
       "    <tr>\n",
       "      <th>2</th>\n",
       "      <td>02-12-2024 22:50</td>\n",
       "      <td>2024-12-02</td>\n",
       "    </tr>\n",
       "    <tr>\n",
       "      <th>3</th>\n",
       "      <td>02-12-2024 22:50</td>\n",
       "      <td>2024-12-02</td>\n",
       "    </tr>\n",
       "    <tr>\n",
       "      <th>4</th>\n",
       "      <td>02-12-2024 22:50</td>\n",
       "      <td>2024-12-02</td>\n",
       "    </tr>\n",
       "    <tr>\n",
       "      <th>...</th>\n",
       "      <td>...</td>\n",
       "      <td>...</td>\n",
       "    </tr>\n",
       "    <tr>\n",
       "      <th>211219</th>\n",
       "      <td>25-04-2025 15:35</td>\n",
       "      <td>2025-04-25</td>\n",
       "    </tr>\n",
       "    <tr>\n",
       "      <th>211220</th>\n",
       "      <td>25-04-2025 15:35</td>\n",
       "      <td>2025-04-25</td>\n",
       "    </tr>\n",
       "    <tr>\n",
       "      <th>211221</th>\n",
       "      <td>25-04-2025 15:35</td>\n",
       "      <td>2025-04-25</td>\n",
       "    </tr>\n",
       "    <tr>\n",
       "      <th>211222</th>\n",
       "      <td>25-04-2025 15:35</td>\n",
       "      <td>2025-04-25</td>\n",
       "    </tr>\n",
       "    <tr>\n",
       "      <th>211223</th>\n",
       "      <td>25-04-2025 15:35</td>\n",
       "      <td>2025-04-25</td>\n",
       "    </tr>\n",
       "  </tbody>\n",
       "</table>\n",
       "<p>211224 rows × 2 columns</p>\n",
       "</div>"
      ],
      "text/plain": [
       "           Timestamp IST        date\n",
       "0       02-12-2024 22:50  2024-12-02\n",
       "1       02-12-2024 22:50  2024-12-02\n",
       "2       02-12-2024 22:50  2024-12-02\n",
       "3       02-12-2024 22:50  2024-12-02\n",
       "4       02-12-2024 22:50  2024-12-02\n",
       "...                  ...         ...\n",
       "211219  25-04-2025 15:35  2025-04-25\n",
       "211220  25-04-2025 15:35  2025-04-25\n",
       "211221  25-04-2025 15:35  2025-04-25\n",
       "211222  25-04-2025 15:35  2025-04-25\n",
       "211223  25-04-2025 15:35  2025-04-25\n",
       "\n",
       "[211224 rows x 2 columns]"
      ]
     },
     "execution_count": 8,
     "metadata": {},
     "output_type": "execute_result"
    }
   ],
   "source": [
    "# Preview the updated dataframe\n",
    "trader_df[['Timestamp IST', 'date']]"
   ]
  },
  {
   "cell_type": "code",
   "execution_count": 9,
   "id": "94c7ccad",
   "metadata": {},
   "outputs": [
    {
     "data": {
      "application/vnd.microsoft.datawrangler.viewer.v0+json": {
       "columns": [
        {
         "name": "index",
         "rawType": "int64",
         "type": "integer"
        },
        {
         "name": "Account",
         "rawType": "object",
         "type": "string"
        },
        {
         "name": "Coin",
         "rawType": "object",
         "type": "string"
        },
        {
         "name": "Execution Price",
         "rawType": "float64",
         "type": "float"
        },
        {
         "name": "Size Tokens",
         "rawType": "float64",
         "type": "float"
        },
        {
         "name": "Size USD",
         "rawType": "float64",
         "type": "float"
        },
        {
         "name": "Side",
         "rawType": "object",
         "type": "string"
        },
        {
         "name": "Timestamp IST",
         "rawType": "object",
         "type": "string"
        },
        {
         "name": "Start Position",
         "rawType": "float64",
         "type": "float"
        },
        {
         "name": "Direction",
         "rawType": "object",
         "type": "string"
        },
        {
         "name": "Closed PnL",
         "rawType": "float64",
         "type": "float"
        },
        {
         "name": "Transaction Hash",
         "rawType": "object",
         "type": "string"
        },
        {
         "name": "Order ID",
         "rawType": "int64",
         "type": "integer"
        },
        {
         "name": "Crossed",
         "rawType": "bool",
         "type": "boolean"
        },
        {
         "name": "Fee",
         "rawType": "float64",
         "type": "float"
        },
        {
         "name": "Trade ID",
         "rawType": "float64",
         "type": "float"
        },
        {
         "name": "Timestamp",
         "rawType": "float64",
         "type": "float"
        },
        {
         "name": "date",
         "rawType": "object",
         "type": "unknown"
        }
       ],
       "ref": "e0c5f4dc-eedc-425c-b611-6b0e0d67a0e7",
       "rows": [
        [
         "0",
         "0xae5eacaf9c6b9111fd53034a602c192a04e082ed",
         "@107",
         "7.9769",
         "986.87",
         "7872.16",
         "BUY",
         "02-12-2024 22:50",
         "0.0",
         "Buy",
         "0.0",
         "0xec09451986a1874e3a980418412fcd0201f500c95bac0f37caef8a734502ec49",
         "52017706630",
         "True",
         "0.34540448",
         "895000000000000.0",
         "1730000000000.0",
         "2024-12-02"
        ],
        [
         "1",
         "0xae5eacaf9c6b9111fd53034a602c192a04e082ed",
         "@107",
         "7.98",
         "16.0",
         "127.68",
         "BUY",
         "02-12-2024 22:50",
         "986.5245955",
         "Buy",
         "0.0",
         "0xec09451986a1874e3a980418412fcd0201f500c95bac0f37caef8a734502ec49",
         "52017706630",
         "True",
         "0.0056",
         "443000000000000.0",
         "1730000000000.0",
         "2024-12-02"
        ],
        [
         "2",
         "0xae5eacaf9c6b9111fd53034a602c192a04e082ed",
         "@107",
         "7.9855",
         "144.09",
         "1150.63",
         "BUY",
         "02-12-2024 22:50",
         "1002.518996",
         "Buy",
         "0.0",
         "0xec09451986a1874e3a980418412fcd0201f500c95bac0f37caef8a734502ec49",
         "52017706630",
         "True",
         "0.0504314",
         "660000000000000.0",
         "1730000000000.0",
         "2024-12-02"
        ],
        [
         "3",
         "0xae5eacaf9c6b9111fd53034a602c192a04e082ed",
         "@107",
         "7.9874",
         "142.98",
         "1142.04",
         "BUY",
         "02-12-2024 22:50",
         "1146.558564",
         "Buy",
         "0.0",
         "0xec09451986a1874e3a980418412fcd0201f500c95bac0f37caef8a734502ec49",
         "52017706630",
         "True",
         "0.05004294",
         "1080000000000000.0",
         "1730000000000.0",
         "2024-12-02"
        ],
        [
         "4",
         "0xae5eacaf9c6b9111fd53034a602c192a04e082ed",
         "@107",
         "7.9894",
         "8.73",
         "69.75",
         "BUY",
         "02-12-2024 22:50",
         "1289.488521",
         "Buy",
         "0.0",
         "0xec09451986a1874e3a980418412fcd0201f500c95bac0f37caef8a734502ec49",
         "52017706630",
         "True",
         "0.00305542",
         "1050000000000000.0",
         "1730000000000.0",
         "2024-12-02"
        ]
       ],
       "shape": {
        "columns": 17,
        "rows": 5
       }
      },
      "text/html": [
       "<div>\n",
       "<style scoped>\n",
       "    .dataframe tbody tr th:only-of-type {\n",
       "        vertical-align: middle;\n",
       "    }\n",
       "\n",
       "    .dataframe tbody tr th {\n",
       "        vertical-align: top;\n",
       "    }\n",
       "\n",
       "    .dataframe thead th {\n",
       "        text-align: right;\n",
       "    }\n",
       "</style>\n",
       "<table border=\"1\" class=\"dataframe\">\n",
       "  <thead>\n",
       "    <tr style=\"text-align: right;\">\n",
       "      <th></th>\n",
       "      <th>Account</th>\n",
       "      <th>Coin</th>\n",
       "      <th>Execution Price</th>\n",
       "      <th>Size Tokens</th>\n",
       "      <th>Size USD</th>\n",
       "      <th>Side</th>\n",
       "      <th>Timestamp IST</th>\n",
       "      <th>Start Position</th>\n",
       "      <th>Direction</th>\n",
       "      <th>Closed PnL</th>\n",
       "      <th>Transaction Hash</th>\n",
       "      <th>Order ID</th>\n",
       "      <th>Crossed</th>\n",
       "      <th>Fee</th>\n",
       "      <th>Trade ID</th>\n",
       "      <th>Timestamp</th>\n",
       "      <th>date</th>\n",
       "    </tr>\n",
       "  </thead>\n",
       "  <tbody>\n",
       "    <tr>\n",
       "      <th>0</th>\n",
       "      <td>0xae5eacaf9c6b9111fd53034a602c192a04e082ed</td>\n",
       "      <td>@107</td>\n",
       "      <td>7.9769</td>\n",
       "      <td>986.87</td>\n",
       "      <td>7872.16</td>\n",
       "      <td>BUY</td>\n",
       "      <td>02-12-2024 22:50</td>\n",
       "      <td>0.000000</td>\n",
       "      <td>Buy</td>\n",
       "      <td>0.0</td>\n",
       "      <td>0xec09451986a1874e3a980418412fcd0201f500c95bac...</td>\n",
       "      <td>52017706630</td>\n",
       "      <td>True</td>\n",
       "      <td>0.345404</td>\n",
       "      <td>8.950000e+14</td>\n",
       "      <td>1.730000e+12</td>\n",
       "      <td>2024-12-02</td>\n",
       "    </tr>\n",
       "    <tr>\n",
       "      <th>1</th>\n",
       "      <td>0xae5eacaf9c6b9111fd53034a602c192a04e082ed</td>\n",
       "      <td>@107</td>\n",
       "      <td>7.9800</td>\n",
       "      <td>16.00</td>\n",
       "      <td>127.68</td>\n",
       "      <td>BUY</td>\n",
       "      <td>02-12-2024 22:50</td>\n",
       "      <td>986.524596</td>\n",
       "      <td>Buy</td>\n",
       "      <td>0.0</td>\n",
       "      <td>0xec09451986a1874e3a980418412fcd0201f500c95bac...</td>\n",
       "      <td>52017706630</td>\n",
       "      <td>True</td>\n",
       "      <td>0.005600</td>\n",
       "      <td>4.430000e+14</td>\n",
       "      <td>1.730000e+12</td>\n",
       "      <td>2024-12-02</td>\n",
       "    </tr>\n",
       "    <tr>\n",
       "      <th>2</th>\n",
       "      <td>0xae5eacaf9c6b9111fd53034a602c192a04e082ed</td>\n",
       "      <td>@107</td>\n",
       "      <td>7.9855</td>\n",
       "      <td>144.09</td>\n",
       "      <td>1150.63</td>\n",
       "      <td>BUY</td>\n",
       "      <td>02-12-2024 22:50</td>\n",
       "      <td>1002.518996</td>\n",
       "      <td>Buy</td>\n",
       "      <td>0.0</td>\n",
       "      <td>0xec09451986a1874e3a980418412fcd0201f500c95bac...</td>\n",
       "      <td>52017706630</td>\n",
       "      <td>True</td>\n",
       "      <td>0.050431</td>\n",
       "      <td>6.600000e+14</td>\n",
       "      <td>1.730000e+12</td>\n",
       "      <td>2024-12-02</td>\n",
       "    </tr>\n",
       "    <tr>\n",
       "      <th>3</th>\n",
       "      <td>0xae5eacaf9c6b9111fd53034a602c192a04e082ed</td>\n",
       "      <td>@107</td>\n",
       "      <td>7.9874</td>\n",
       "      <td>142.98</td>\n",
       "      <td>1142.04</td>\n",
       "      <td>BUY</td>\n",
       "      <td>02-12-2024 22:50</td>\n",
       "      <td>1146.558564</td>\n",
       "      <td>Buy</td>\n",
       "      <td>0.0</td>\n",
       "      <td>0xec09451986a1874e3a980418412fcd0201f500c95bac...</td>\n",
       "      <td>52017706630</td>\n",
       "      <td>True</td>\n",
       "      <td>0.050043</td>\n",
       "      <td>1.080000e+15</td>\n",
       "      <td>1.730000e+12</td>\n",
       "      <td>2024-12-02</td>\n",
       "    </tr>\n",
       "    <tr>\n",
       "      <th>4</th>\n",
       "      <td>0xae5eacaf9c6b9111fd53034a602c192a04e082ed</td>\n",
       "      <td>@107</td>\n",
       "      <td>7.9894</td>\n",
       "      <td>8.73</td>\n",
       "      <td>69.75</td>\n",
       "      <td>BUY</td>\n",
       "      <td>02-12-2024 22:50</td>\n",
       "      <td>1289.488521</td>\n",
       "      <td>Buy</td>\n",
       "      <td>0.0</td>\n",
       "      <td>0xec09451986a1874e3a980418412fcd0201f500c95bac...</td>\n",
       "      <td>52017706630</td>\n",
       "      <td>True</td>\n",
       "      <td>0.003055</td>\n",
       "      <td>1.050000e+15</td>\n",
       "      <td>1.730000e+12</td>\n",
       "      <td>2024-12-02</td>\n",
       "    </tr>\n",
       "  </tbody>\n",
       "</table>\n",
       "</div>"
      ],
      "text/plain": [
       "                                      Account  Coin  Execution Price  \\\n",
       "0  0xae5eacaf9c6b9111fd53034a602c192a04e082ed  @107           7.9769   \n",
       "1  0xae5eacaf9c6b9111fd53034a602c192a04e082ed  @107           7.9800   \n",
       "2  0xae5eacaf9c6b9111fd53034a602c192a04e082ed  @107           7.9855   \n",
       "3  0xae5eacaf9c6b9111fd53034a602c192a04e082ed  @107           7.9874   \n",
       "4  0xae5eacaf9c6b9111fd53034a602c192a04e082ed  @107           7.9894   \n",
       "\n",
       "   Size Tokens  Size USD Side     Timestamp IST  Start Position Direction  \\\n",
       "0       986.87   7872.16  BUY  02-12-2024 22:50        0.000000       Buy   \n",
       "1        16.00    127.68  BUY  02-12-2024 22:50      986.524596       Buy   \n",
       "2       144.09   1150.63  BUY  02-12-2024 22:50     1002.518996       Buy   \n",
       "3       142.98   1142.04  BUY  02-12-2024 22:50     1146.558564       Buy   \n",
       "4         8.73     69.75  BUY  02-12-2024 22:50     1289.488521       Buy   \n",
       "\n",
       "   Closed PnL                                   Transaction Hash     Order ID  \\\n",
       "0         0.0  0xec09451986a1874e3a980418412fcd0201f500c95bac...  52017706630   \n",
       "1         0.0  0xec09451986a1874e3a980418412fcd0201f500c95bac...  52017706630   \n",
       "2         0.0  0xec09451986a1874e3a980418412fcd0201f500c95bac...  52017706630   \n",
       "3         0.0  0xec09451986a1874e3a980418412fcd0201f500c95bac...  52017706630   \n",
       "4         0.0  0xec09451986a1874e3a980418412fcd0201f500c95bac...  52017706630   \n",
       "\n",
       "   Crossed       Fee      Trade ID     Timestamp        date  \n",
       "0     True  0.345404  8.950000e+14  1.730000e+12  2024-12-02  \n",
       "1     True  0.005600  4.430000e+14  1.730000e+12  2024-12-02  \n",
       "2     True  0.050431  6.600000e+14  1.730000e+12  2024-12-02  \n",
       "3     True  0.050043  1.080000e+15  1.730000e+12  2024-12-02  \n",
       "4     True  0.003055  1.050000e+15  1.730000e+12  2024-12-02  "
      ]
     },
     "execution_count": 9,
     "metadata": {},
     "output_type": "execute_result"
    }
   ],
   "source": [
    "trader_df.head()"
   ]
  },
  {
   "cell_type": "markdown",
   "id": "8be1423f",
   "metadata": {},
   "source": [
    "# Convert \"date\" in sentiment data to datetime"
   ]
  },
  {
   "cell_type": "code",
   "execution_count": 10,
   "id": "f12eb069",
   "metadata": {},
   "outputs": [],
   "source": [
    "# Load the sentiment data\n",
    "sentiment_df = pd.read_csv(\"fear_greed_index.csv\")"
   ]
  },
  {
   "cell_type": "code",
   "execution_count": 11,
   "id": "c41830ac",
   "metadata": {},
   "outputs": [],
   "source": [
    "# Convert 'date' to datetime.date\n",
    "sentiment_df['date'] = pd.to_datetime(sentiment_df['date']).dt.date"
   ]
  },
  {
   "cell_type": "code",
   "execution_count": 13,
   "id": "f1bfdafb",
   "metadata": {},
   "outputs": [
    {
     "data": {
      "application/vnd.microsoft.datawrangler.viewer.v0+json": {
       "columns": [
        {
         "name": "index",
         "rawType": "int64",
         "type": "integer"
        },
        {
         "name": "date",
         "rawType": "object",
         "type": "unknown"
        },
        {
         "name": "classification",
         "rawType": "object",
         "type": "string"
        },
        {
         "name": "value",
         "rawType": "int64",
         "type": "integer"
        }
       ],
       "ref": "9903b616-eb71-4cae-9777-25ed87c1fbf8",
       "rows": [
        [
         "0",
         "2018-02-01",
         "Fear",
         "30"
        ],
        [
         "1",
         "2018-02-02",
         "Extreme Fear",
         "15"
        ],
        [
         "2",
         "2018-02-03",
         "Fear",
         "40"
        ],
        [
         "3",
         "2018-02-04",
         "Extreme Fear",
         "24"
        ],
        [
         "4",
         "2018-02-05",
         "Extreme Fear",
         "11"
        ]
       ],
       "shape": {
        "columns": 3,
        "rows": 5
       }
      },
      "text/html": [
       "<div>\n",
       "<style scoped>\n",
       "    .dataframe tbody tr th:only-of-type {\n",
       "        vertical-align: middle;\n",
       "    }\n",
       "\n",
       "    .dataframe tbody tr th {\n",
       "        vertical-align: top;\n",
       "    }\n",
       "\n",
       "    .dataframe thead th {\n",
       "        text-align: right;\n",
       "    }\n",
       "</style>\n",
       "<table border=\"1\" class=\"dataframe\">\n",
       "  <thead>\n",
       "    <tr style=\"text-align: right;\">\n",
       "      <th></th>\n",
       "      <th>date</th>\n",
       "      <th>classification</th>\n",
       "      <th>value</th>\n",
       "    </tr>\n",
       "  </thead>\n",
       "  <tbody>\n",
       "    <tr>\n",
       "      <th>0</th>\n",
       "      <td>2018-02-01</td>\n",
       "      <td>Fear</td>\n",
       "      <td>30</td>\n",
       "    </tr>\n",
       "    <tr>\n",
       "      <th>1</th>\n",
       "      <td>2018-02-02</td>\n",
       "      <td>Extreme Fear</td>\n",
       "      <td>15</td>\n",
       "    </tr>\n",
       "    <tr>\n",
       "      <th>2</th>\n",
       "      <td>2018-02-03</td>\n",
       "      <td>Fear</td>\n",
       "      <td>40</td>\n",
       "    </tr>\n",
       "    <tr>\n",
       "      <th>3</th>\n",
       "      <td>2018-02-04</td>\n",
       "      <td>Extreme Fear</td>\n",
       "      <td>24</td>\n",
       "    </tr>\n",
       "    <tr>\n",
       "      <th>4</th>\n",
       "      <td>2018-02-05</td>\n",
       "      <td>Extreme Fear</td>\n",
       "      <td>11</td>\n",
       "    </tr>\n",
       "  </tbody>\n",
       "</table>\n",
       "</div>"
      ],
      "text/plain": [
       "         date classification  value\n",
       "0  2018-02-01           Fear     30\n",
       "1  2018-02-02   Extreme Fear     15\n",
       "2  2018-02-03           Fear     40\n",
       "3  2018-02-04   Extreme Fear     24\n",
       "4  2018-02-05   Extreme Fear     11"
      ]
     },
     "execution_count": 13,
     "metadata": {},
     "output_type": "execute_result"
    }
   ],
   "source": [
    "sentiment_df[['date', 'classification', 'value']].head()"
   ]
  },
  {
   "cell_type": "markdown",
   "id": "48597e53",
   "metadata": {},
   "source": [
    "# Merge the two datasets on the date column"
   ]
  },
  {
   "cell_type": "code",
   "execution_count": 14,
   "id": "a4ebba43",
   "metadata": {},
   "outputs": [
    {
     "name": "stdout",
     "output_type": "stream",
     "text": [
      "                                      Account  Execution Price  Size USD  \\\n",
      "0  0xae5eacaf9c6b9111fd53034a602c192a04e082ed           7.9769   7872.16   \n",
      "1  0xae5eacaf9c6b9111fd53034a602c192a04e082ed           7.9800    127.68   \n",
      "2  0xae5eacaf9c6b9111fd53034a602c192a04e082ed           7.9855   1150.63   \n",
      "3  0xae5eacaf9c6b9111fd53034a602c192a04e082ed           7.9874   1142.04   \n",
      "4  0xae5eacaf9c6b9111fd53034a602c192a04e082ed           7.9894     69.75   \n",
      "\n",
      "   Closed PnL        date classification  value  \n",
      "0         0.0  2024-12-02  Extreme Greed   80.0  \n",
      "1         0.0  2024-12-02  Extreme Greed   80.0  \n",
      "2         0.0  2024-12-02  Extreme Greed   80.0  \n",
      "3         0.0  2024-12-02  Extreme Greed   80.0  \n",
      "4         0.0  2024-12-02  Extreme Greed   80.0  \n"
     ]
    }
   ],
   "source": [
    "# Merge on 'date'\n",
    "merged_df = pd.merge(\n",
    "    trader_df,\n",
    "    sentiment_df[['date', 'classification', 'value']],  # only keeping necessary sentiment columns\n",
    "    on='date',\n",
    "    how='left'  # use 'left' to keep all trader records even if sentiment is missing\n",
    ")\n",
    "\n",
    "# Preview the merged dataset\n",
    "print(merged_df[['Account', 'Execution Price', 'Size USD', 'Closed PnL', 'date', 'classification', 'value']].head())\n"
   ]
  },
  {
   "cell_type": "markdown",
   "id": "ebfbe2b0",
   "metadata": {},
   "source": [
    "# Distribution of Market Sentiment"
   ]
  },
  {
   "cell_type": "code",
   "execution_count": 15,
   "id": "49af0285",
   "metadata": {},
   "outputs": [
    {
     "data": {
      "application/vnd.microsoft.datawrangler.viewer.v0+json": {
       "columns": [
        {
         "name": "index",
         "rawType": "int64",
         "type": "integer"
        },
        {
         "name": "Account",
         "rawType": "object",
         "type": "string"
        },
        {
         "name": "Coin",
         "rawType": "object",
         "type": "string"
        },
        {
         "name": "Execution Price",
         "rawType": "float64",
         "type": "float"
        },
        {
         "name": "Size Tokens",
         "rawType": "float64",
         "type": "float"
        },
        {
         "name": "Size USD",
         "rawType": "float64",
         "type": "float"
        },
        {
         "name": "Side",
         "rawType": "object",
         "type": "string"
        },
        {
         "name": "Timestamp IST",
         "rawType": "object",
         "type": "string"
        },
        {
         "name": "Start Position",
         "rawType": "float64",
         "type": "float"
        },
        {
         "name": "Direction",
         "rawType": "object",
         "type": "string"
        },
        {
         "name": "Closed PnL",
         "rawType": "float64",
         "type": "float"
        },
        {
         "name": "Transaction Hash",
         "rawType": "object",
         "type": "string"
        },
        {
         "name": "Order ID",
         "rawType": "int64",
         "type": "integer"
        },
        {
         "name": "Crossed",
         "rawType": "bool",
         "type": "boolean"
        },
        {
         "name": "Fee",
         "rawType": "float64",
         "type": "float"
        },
        {
         "name": "Trade ID",
         "rawType": "float64",
         "type": "float"
        },
        {
         "name": "Timestamp",
         "rawType": "float64",
         "type": "float"
        },
        {
         "name": "date",
         "rawType": "object",
         "type": "unknown"
        },
        {
         "name": "classification",
         "rawType": "object",
         "type": "string"
        },
        {
         "name": "value",
         "rawType": "float64",
         "type": "float"
        }
       ],
       "ref": "468a512e-2448-4f8c-b14f-a547ccddb28d",
       "rows": [
        [
         "0",
         "0xae5eacaf9c6b9111fd53034a602c192a04e082ed",
         "@107",
         "7.9769",
         "986.87",
         "7872.16",
         "BUY",
         "02-12-2024 22:50",
         "0.0",
         "Buy",
         "0.0",
         "0xec09451986a1874e3a980418412fcd0201f500c95bac0f37caef8a734502ec49",
         "52017706630",
         "True",
         "0.34540448",
         "895000000000000.0",
         "1730000000000.0",
         "2024-12-02",
         "Extreme Greed",
         "80.0"
        ],
        [
         "1",
         "0xae5eacaf9c6b9111fd53034a602c192a04e082ed",
         "@107",
         "7.98",
         "16.0",
         "127.68",
         "BUY",
         "02-12-2024 22:50",
         "986.5245955",
         "Buy",
         "0.0",
         "0xec09451986a1874e3a980418412fcd0201f500c95bac0f37caef8a734502ec49",
         "52017706630",
         "True",
         "0.0056",
         "443000000000000.0",
         "1730000000000.0",
         "2024-12-02",
         "Extreme Greed",
         "80.0"
        ],
        [
         "2",
         "0xae5eacaf9c6b9111fd53034a602c192a04e082ed",
         "@107",
         "7.9855",
         "144.09",
         "1150.63",
         "BUY",
         "02-12-2024 22:50",
         "1002.518996",
         "Buy",
         "0.0",
         "0xec09451986a1874e3a980418412fcd0201f500c95bac0f37caef8a734502ec49",
         "52017706630",
         "True",
         "0.0504314",
         "660000000000000.0",
         "1730000000000.0",
         "2024-12-02",
         "Extreme Greed",
         "80.0"
        ],
        [
         "3",
         "0xae5eacaf9c6b9111fd53034a602c192a04e082ed",
         "@107",
         "7.9874",
         "142.98",
         "1142.04",
         "BUY",
         "02-12-2024 22:50",
         "1146.558564",
         "Buy",
         "0.0",
         "0xec09451986a1874e3a980418412fcd0201f500c95bac0f37caef8a734502ec49",
         "52017706630",
         "True",
         "0.05004294",
         "1080000000000000.0",
         "1730000000000.0",
         "2024-12-02",
         "Extreme Greed",
         "80.0"
        ],
        [
         "4",
         "0xae5eacaf9c6b9111fd53034a602c192a04e082ed",
         "@107",
         "7.9894",
         "8.73",
         "69.75",
         "BUY",
         "02-12-2024 22:50",
         "1289.488521",
         "Buy",
         "0.0",
         "0xec09451986a1874e3a980418412fcd0201f500c95bac0f37caef8a734502ec49",
         "52017706630",
         "True",
         "0.00305542",
         "1050000000000000.0",
         "1730000000000.0",
         "2024-12-02",
         "Extreme Greed",
         "80.0"
        ]
       ],
       "shape": {
        "columns": 19,
        "rows": 5
       }
      },
      "text/html": [
       "<div>\n",
       "<style scoped>\n",
       "    .dataframe tbody tr th:only-of-type {\n",
       "        vertical-align: middle;\n",
       "    }\n",
       "\n",
       "    .dataframe tbody tr th {\n",
       "        vertical-align: top;\n",
       "    }\n",
       "\n",
       "    .dataframe thead th {\n",
       "        text-align: right;\n",
       "    }\n",
       "</style>\n",
       "<table border=\"1\" class=\"dataframe\">\n",
       "  <thead>\n",
       "    <tr style=\"text-align: right;\">\n",
       "      <th></th>\n",
       "      <th>Account</th>\n",
       "      <th>Coin</th>\n",
       "      <th>Execution Price</th>\n",
       "      <th>Size Tokens</th>\n",
       "      <th>Size USD</th>\n",
       "      <th>Side</th>\n",
       "      <th>Timestamp IST</th>\n",
       "      <th>Start Position</th>\n",
       "      <th>Direction</th>\n",
       "      <th>Closed PnL</th>\n",
       "      <th>Transaction Hash</th>\n",
       "      <th>Order ID</th>\n",
       "      <th>Crossed</th>\n",
       "      <th>Fee</th>\n",
       "      <th>Trade ID</th>\n",
       "      <th>Timestamp</th>\n",
       "      <th>date</th>\n",
       "      <th>classification</th>\n",
       "      <th>value</th>\n",
       "    </tr>\n",
       "  </thead>\n",
       "  <tbody>\n",
       "    <tr>\n",
       "      <th>0</th>\n",
       "      <td>0xae5eacaf9c6b9111fd53034a602c192a04e082ed</td>\n",
       "      <td>@107</td>\n",
       "      <td>7.9769</td>\n",
       "      <td>986.87</td>\n",
       "      <td>7872.16</td>\n",
       "      <td>BUY</td>\n",
       "      <td>02-12-2024 22:50</td>\n",
       "      <td>0.000000</td>\n",
       "      <td>Buy</td>\n",
       "      <td>0.0</td>\n",
       "      <td>0xec09451986a1874e3a980418412fcd0201f500c95bac...</td>\n",
       "      <td>52017706630</td>\n",
       "      <td>True</td>\n",
       "      <td>0.345404</td>\n",
       "      <td>8.950000e+14</td>\n",
       "      <td>1.730000e+12</td>\n",
       "      <td>2024-12-02</td>\n",
       "      <td>Extreme Greed</td>\n",
       "      <td>80.0</td>\n",
       "    </tr>\n",
       "    <tr>\n",
       "      <th>1</th>\n",
       "      <td>0xae5eacaf9c6b9111fd53034a602c192a04e082ed</td>\n",
       "      <td>@107</td>\n",
       "      <td>7.9800</td>\n",
       "      <td>16.00</td>\n",
       "      <td>127.68</td>\n",
       "      <td>BUY</td>\n",
       "      <td>02-12-2024 22:50</td>\n",
       "      <td>986.524596</td>\n",
       "      <td>Buy</td>\n",
       "      <td>0.0</td>\n",
       "      <td>0xec09451986a1874e3a980418412fcd0201f500c95bac...</td>\n",
       "      <td>52017706630</td>\n",
       "      <td>True</td>\n",
       "      <td>0.005600</td>\n",
       "      <td>4.430000e+14</td>\n",
       "      <td>1.730000e+12</td>\n",
       "      <td>2024-12-02</td>\n",
       "      <td>Extreme Greed</td>\n",
       "      <td>80.0</td>\n",
       "    </tr>\n",
       "    <tr>\n",
       "      <th>2</th>\n",
       "      <td>0xae5eacaf9c6b9111fd53034a602c192a04e082ed</td>\n",
       "      <td>@107</td>\n",
       "      <td>7.9855</td>\n",
       "      <td>144.09</td>\n",
       "      <td>1150.63</td>\n",
       "      <td>BUY</td>\n",
       "      <td>02-12-2024 22:50</td>\n",
       "      <td>1002.518996</td>\n",
       "      <td>Buy</td>\n",
       "      <td>0.0</td>\n",
       "      <td>0xec09451986a1874e3a980418412fcd0201f500c95bac...</td>\n",
       "      <td>52017706630</td>\n",
       "      <td>True</td>\n",
       "      <td>0.050431</td>\n",
       "      <td>6.600000e+14</td>\n",
       "      <td>1.730000e+12</td>\n",
       "      <td>2024-12-02</td>\n",
       "      <td>Extreme Greed</td>\n",
       "      <td>80.0</td>\n",
       "    </tr>\n",
       "    <tr>\n",
       "      <th>3</th>\n",
       "      <td>0xae5eacaf9c6b9111fd53034a602c192a04e082ed</td>\n",
       "      <td>@107</td>\n",
       "      <td>7.9874</td>\n",
       "      <td>142.98</td>\n",
       "      <td>1142.04</td>\n",
       "      <td>BUY</td>\n",
       "      <td>02-12-2024 22:50</td>\n",
       "      <td>1146.558564</td>\n",
       "      <td>Buy</td>\n",
       "      <td>0.0</td>\n",
       "      <td>0xec09451986a1874e3a980418412fcd0201f500c95bac...</td>\n",
       "      <td>52017706630</td>\n",
       "      <td>True</td>\n",
       "      <td>0.050043</td>\n",
       "      <td>1.080000e+15</td>\n",
       "      <td>1.730000e+12</td>\n",
       "      <td>2024-12-02</td>\n",
       "      <td>Extreme Greed</td>\n",
       "      <td>80.0</td>\n",
       "    </tr>\n",
       "    <tr>\n",
       "      <th>4</th>\n",
       "      <td>0xae5eacaf9c6b9111fd53034a602c192a04e082ed</td>\n",
       "      <td>@107</td>\n",
       "      <td>7.9894</td>\n",
       "      <td>8.73</td>\n",
       "      <td>69.75</td>\n",
       "      <td>BUY</td>\n",
       "      <td>02-12-2024 22:50</td>\n",
       "      <td>1289.488521</td>\n",
       "      <td>Buy</td>\n",
       "      <td>0.0</td>\n",
       "      <td>0xec09451986a1874e3a980418412fcd0201f500c95bac...</td>\n",
       "      <td>52017706630</td>\n",
       "      <td>True</td>\n",
       "      <td>0.003055</td>\n",
       "      <td>1.050000e+15</td>\n",
       "      <td>1.730000e+12</td>\n",
       "      <td>2024-12-02</td>\n",
       "      <td>Extreme Greed</td>\n",
       "      <td>80.0</td>\n",
       "    </tr>\n",
       "  </tbody>\n",
       "</table>\n",
       "</div>"
      ],
      "text/plain": [
       "                                      Account  Coin  Execution Price  \\\n",
       "0  0xae5eacaf9c6b9111fd53034a602c192a04e082ed  @107           7.9769   \n",
       "1  0xae5eacaf9c6b9111fd53034a602c192a04e082ed  @107           7.9800   \n",
       "2  0xae5eacaf9c6b9111fd53034a602c192a04e082ed  @107           7.9855   \n",
       "3  0xae5eacaf9c6b9111fd53034a602c192a04e082ed  @107           7.9874   \n",
       "4  0xae5eacaf9c6b9111fd53034a602c192a04e082ed  @107           7.9894   \n",
       "\n",
       "   Size Tokens  Size USD Side     Timestamp IST  Start Position Direction  \\\n",
       "0       986.87   7872.16  BUY  02-12-2024 22:50        0.000000       Buy   \n",
       "1        16.00    127.68  BUY  02-12-2024 22:50      986.524596       Buy   \n",
       "2       144.09   1150.63  BUY  02-12-2024 22:50     1002.518996       Buy   \n",
       "3       142.98   1142.04  BUY  02-12-2024 22:50     1146.558564       Buy   \n",
       "4         8.73     69.75  BUY  02-12-2024 22:50     1289.488521       Buy   \n",
       "\n",
       "   Closed PnL                                   Transaction Hash     Order ID  \\\n",
       "0         0.0  0xec09451986a1874e3a980418412fcd0201f500c95bac...  52017706630   \n",
       "1         0.0  0xec09451986a1874e3a980418412fcd0201f500c95bac...  52017706630   \n",
       "2         0.0  0xec09451986a1874e3a980418412fcd0201f500c95bac...  52017706630   \n",
       "3         0.0  0xec09451986a1874e3a980418412fcd0201f500c95bac...  52017706630   \n",
       "4         0.0  0xec09451986a1874e3a980418412fcd0201f500c95bac...  52017706630   \n",
       "\n",
       "   Crossed       Fee      Trade ID     Timestamp        date classification  \\\n",
       "0     True  0.345404  8.950000e+14  1.730000e+12  2024-12-02  Extreme Greed   \n",
       "1     True  0.005600  4.430000e+14  1.730000e+12  2024-12-02  Extreme Greed   \n",
       "2     True  0.050431  6.600000e+14  1.730000e+12  2024-12-02  Extreme Greed   \n",
       "3     True  0.050043  1.080000e+15  1.730000e+12  2024-12-02  Extreme Greed   \n",
       "4     True  0.003055  1.050000e+15  1.730000e+12  2024-12-02  Extreme Greed   \n",
       "\n",
       "   value  \n",
       "0   80.0  \n",
       "1   80.0  \n",
       "2   80.0  \n",
       "3   80.0  \n",
       "4   80.0  "
      ]
     },
     "execution_count": 15,
     "metadata": {},
     "output_type": "execute_result"
    }
   ],
   "source": [
    "merged_df.head()"
   ]
  },
  {
   "cell_type": "code",
   "execution_count": 16,
   "id": "28951aa4",
   "metadata": {},
   "outputs": [
    {
     "data": {
      "text/plain": [
       "(211224, 19)"
      ]
     },
     "execution_count": 16,
     "metadata": {},
     "output_type": "execute_result"
    }
   ],
   "source": [
    "merged_df.shape"
   ]
  },
  {
   "cell_type": "code",
   "execution_count": 21,
   "id": "038dff81",
   "metadata": {},
   "outputs": [
    {
     "name": "stderr",
     "output_type": "stream",
     "text": [
      "C:\\Users\\DELL\\AppData\\Local\\Temp\\ipykernel_18084\\1613830115.py:9: FutureWarning: \n",
      "\n",
      "Passing `palette` without assigning `hue` is deprecated and will be removed in v0.14.0. Assign the `x` variable to `hue` and set `legend=False` for the same effect.\n",
      "\n",
      "  sns.countplot(data=merged_df, x=\"classification\", order=merged_df['classification'].value_counts().index, palette=\"viridis\")\n"
     ]
    },
    {
     "data": {
      "image/png": "[encoded data removed]",
      "text/plain": [
       "<Figure size 800x500 with 1 Axes>"
      ]
     },
     "metadata": {},
     "output_type": "display_data"
    }
   ],
   "source": [
    "import seaborn as sns\n",
    "import matplotlib.pyplot as plt\n",
    "\n",
    "# Set style for plots\n",
    "sns.set(style=\"whitegrid\")\n",
    "\n",
    "# Plot distribution of sentiment classification\n",
    "plt.figure(figsize=(8, 5))\n",
    "sns.countplot(data=merged_df, x=\"classification\", order=merged_df['classification'].value_counts().index, palette=\"viridis\")\n",
    "plt.title(\"Distribution of Market Sentiment\")\n",
    "plt.xlabel(\"Sentiment\")\n",
    "plt.ylabel(\"Number of Trades\")\n",
    "plt.xticks(rotation=45)\n",
    "plt.tight_layout()\n",
    "plt.show()\n"
   ]
  },
  {
   "cell_type": "markdown",
   "id": "0771c3cf",
   "metadata": {},
   "source": [
    "# Average Trader Performance by Sentiment"
   ]
  },
  {
   "cell_type": "code",
   "execution_count": 22,
   "id": "fb35553e",
   "metadata": {},
   "outputs": [
    {
     "name": "stderr",
     "output_type": "stream",
     "text": [
      "C:\\Users\\DELL\\AppData\\Local\\Temp\\ipykernel_18084\\2642756569.py:6: FutureWarning: \n",
      "\n",
      "Passing `palette` without assigning `hue` is deprecated and will be removed in v0.14.0. Assign the `x` variable to `hue` and set `legend=False` for the same effect.\n",
      "\n",
      "  sns.barplot(x=avg_pnl_by_sentiment.index, y=avg_pnl_by_sentiment.values, palette=\"coolwarm\")\n"
     ]
    },
    {
     "data": {
      "image/png": "[encoded data removed]",
      "text/plain": [
       "<Figure size 800x500 with 1 Axes>"
      ]
     },
     "metadata": {},
     "output_type": "display_data"
    }
   ],
   "source": [
    "# Group by sentiment and calculate mean Closed PnL\n",
    "avg_pnl_by_sentiment = merged_df.groupby(\"classification\")[\"Closed PnL\"].mean().sort_values(ascending=False)\n",
    "\n",
    "# Plot\n",
    "plt.figure(figsize=(8, 5))\n",
    "sns.barplot(x=avg_pnl_by_sentiment.index, y=avg_pnl_by_sentiment.values, palette=\"coolwarm\")\n",
    "plt.title(\"Average Trader PnL by Market Sentiment\")\n",
    "plt.xlabel(\"Market Sentiment\")\n",
    "plt.ylabel(\"Average Closed PnL\")\n",
    "plt.xticks(rotation=45)\n",
    "plt.tight_layout()\n",
    "plt.show()\n"
   ]
  },
  {
   "cell_type": "markdown",
   "id": "7005dff1",
   "metadata": {},
   "source": [
    "# Correlation Between Sentiment Index and Trader Performance"
   ]
  },
  {
   "cell_type": "code",
   "execution_count": 23,
   "id": "0141d6dc",
   "metadata": {},
   "outputs": [
    {
     "data": {
      "image/png": "[encoded data removed]",
      "text/plain": [
       "<Figure size 800x500 with 1 Axes>"
      ]
     },
     "metadata": {},
     "output_type": "display_data"
    }
   ],
   "source": [
    "# Scatter plot: Sentiment Index vs. Closed PnL\n",
    "plt.figure(figsize=(8, 5))\n",
    "sns.scatterplot(data=merged_df, x=\"value\", y=\"Closed PnL\", alpha=0.3)\n",
    "sns.regplot(data=merged_df, x=\"value\", y=\"Closed PnL\", scatter=False, color='red', label=\"Trend\")\n",
    "plt.title(\"Sentiment Index vs. Trader PnL\")\n",
    "plt.xlabel(\"Sentiment Index (0-100)\")\n",
    "plt.ylabel(\"Closed PnL\")\n",
    "plt.legend()\n",
    "plt.tight_layout()\n",
    "plt.show()"
   ]
  },
  {
   "cell_type": "markdown",
   "id": "6f43473e",
   "metadata": {},
   "source": [
    "# Number of Trades Per Sentiment Score"
   ]
  },
  {
   "cell_type": "code",
   "execution_count": 24,
   "id": "c4517746",
   "metadata": {},
   "outputs": [
    {
     "data": {
      "image/png": "[encoded data removed]",
      "text/plain": [
       "<Figure size 800x500 with 1 Axes>"
      ]
     },
     "metadata": {},
     "output_type": "display_data"
    }
   ],
   "source": [
    "# Histogram of sentiment index values\n",
    "plt.figure(figsize=(8, 5))\n",
    "sns.histplot(data=merged_df, x=\"value\", bins=20, kde=True, color='purple')\n",
    "plt.title(\"Distribution of Trades by Sentiment Index\")\n",
    "plt.xlabel(\"Sentiment Index (0-100)\")\n",
    "plt.ylabel(\"Number of Trades\")\n",
    "plt.tight_layout()\n",
    "plt.show()\n"
   ]
  },
  {
   "cell_type": "markdown",
   "id": "d568197f",
   "metadata": {},
   "source": [
    " # Mean Closed PnL by Sentiment Classification"
   ]
  },
  {
   "cell_type": "code",
   "execution_count": 25,
   "id": "ea5079ac",
   "metadata": {},
   "outputs": [
    {
     "name": "stderr",
     "output_type": "stream",
     "text": [
      "C:\\Users\\DELL\\AppData\\Local\\Temp\\ipykernel_18084\\2757748893.py:10: FutureWarning: \n",
      "\n",
      "Passing `palette` without assigning `hue` is deprecated and will be removed in v0.14.0. Assign the `x` variable to `hue` and set `legend=False` for the same effect.\n",
      "\n",
      "  sns.barplot(x=avg_pnl_by_sentiment.index, y=avg_pnl_by_sentiment.values, palette=\"coolwarm\")\n"
     ]
    },
    {
     "data": {
      "image/png": "[encoded data removed]",
      "text/plain": [
       "<Figure size 800x500 with 1 Axes>"
      ]
     },
     "metadata": {},
     "output_type": "display_data"
    }
   ],
   "source": [
    "import pandas as pd\n",
    "import matplotlib.pyplot as plt\n",
    "import seaborn as sns\n",
    "\n",
    "# Calculate average Closed PnL for each sentiment type\n",
    "avg_pnl_by_sentiment = merged_df.groupby(\"classification\")[\"Closed PnL\"].mean().sort_values(ascending=False)\n",
    "\n",
    "# Plot results\n",
    "plt.figure(figsize=(8, 5))\n",
    "sns.barplot(x=avg_pnl_by_sentiment.index, y=avg_pnl_by_sentiment.values, palette=\"coolwarm\")\n",
    "plt.title(\"Average Trader Closed PnL by Market Sentiment\")\n",
    "plt.xlabel(\"Market Sentiment\")\n",
    "plt.ylabel(\"Average Closed PnL\")\n",
    "plt.xticks(rotation=45)\n",
    "plt.tight_layout()\n",
    "plt.show()\n"
   ]
  },
  {
   "cell_type": "code",
   "execution_count": null,
   "id": "01de86c5",
   "metadata": {},
   "outputs": [],
   "source": []
  }
 ],
 "metadata": {
  "kernelspec": {
   "display_name": ".venv",
   "language": "python",
   "name": "python3"
  },
  "language_info": {
   "codemirror_mode": {
    "name": "ipython",
    "version": 3
   },
   "file_extension": ".py",
   "mimetype": "text/x-python",
   "name": "python",
   "nbconvert_exporter": "python",
   "pygments_lexer": "ipython3",
   "version": "3.11.5"
  }
 },
 "nbformat": 4,
 "nbformat_minor": 5
}
